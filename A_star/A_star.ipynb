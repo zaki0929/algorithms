{
 "cells": [
  {
   "cell_type": "code",
   "execution_count": 1,
   "metadata": {
    "collapsed": true
   },
   "outputs": [],
   "source": [
    "import numpy as np\n",
    "import copy\n",
    "import math\n",
    "import matplotlib.pyplot as plt\n",
    "%matplotlib inline"
   ]
  },
  {
   "cell_type": "code",
   "execution_count": 2,
   "metadata": {
    "collapsed": true
   },
   "outputs": [],
   "source": [
    "class Map():\n",
    "    def __init__(self, x, y):\n",
    "        self.x = x\n",
    "        self.y = y\n",
    "        self.wall_map = self.make_wall_map()\n",
    "        \n",
    "    def make_wall_map(self):\n",
    "        w = self.get_walls()\n",
    "        wall_map = np.zeros((self.x, self.y))\n",
    "        for i in range(0, len(w)):\n",
    "            wall_map[w[i][0]][w[i][1]] = 1\n",
    "        return wall_map\n",
    "    \n",
    "    def get_walls(self):\n",
    "        walls = []\n",
    "        walls.append([3, 0])\n",
    "        walls.append([3, 1])\n",
    "        walls.append([3, 2])\n",
    "        walls.append([3, 3])\n",
    "        walls.append([3, 4])\n",
    "        walls.append([3, 5])\n",
    "        walls.append([4, 5])\n",
    "        walls.append([5, 5])\n",
    "        walls.append([6, 5])\n",
    "        walls.append([7, 5])\n",
    "        \n",
    "        return walls\n",
    "\n",
    "    def draw(self):\n",
    "        for i in range(0, self.y):\n",
    "            for j in range(0, self.x):\n",
    "                if(self.wall_map[j][i]):\n",
    "                    plt.fill([j, j+1, j+1, j], [i, i, i+1, i+1], color=\"gray\", alpha=0.5)\n",
    "                else:\n",
    "                    plt.fill([j, j+1, j+1, j], [i, i, i+1, i+1], color=\"gray\", alpha=0.01)"
   ]
  },
  {
   "cell_type": "code",
   "execution_count": 3,
   "metadata": {
    "collapsed": true
   },
   "outputs": [],
   "source": [
    "class Start():\n",
    "    def __init__(self, x, y):\n",
    "        self.x = x\n",
    "        self.y = y\n",
    "        \n",
    "    def draw(self):\n",
    "        plt.fill([self.x, self.x+1, self.x+1, self.x], [self.y, self.y, self.y+1, self.y+1], color=\"lightblue\", alpha=0.6)"
   ]
  },
  {
   "cell_type": "code",
   "execution_count": 4,
   "metadata": {
    "collapsed": true
   },
   "outputs": [],
   "source": [
    "class Goal():\n",
    "    def __init__(self, x, y):\n",
    "        self.x = x\n",
    "        self.y = y\n",
    "        \n",
    "    def draw(self):\n",
    "        plt.fill([self.x, self.x+1, self.x+1, self.x], [self.y, self.y, self.y+1, self.y+1], color=\"red\", alpha=0.5)"
   ]
  },
  {
   "cell_type": "code",
   "execution_count": 5,
   "metadata": {
    "collapsed": true
   },
   "outputs": [],
   "source": [
    "# 基準ノードクラス\n",
    "class Node():\n",
    "    def __init__(self, m, s, g):\n",
    "        self.x = s.x\n",
    "        self.y = s.y\n",
    "        self.m = m\n",
    "        self.s = s\n",
    "        self.g = g\n",
    "        \n",
    "        self.isGoal = False\n",
    "        self.cost = 0           # 実コスト\n",
    "        \n",
    "        self.score_map = np.zeros((self.m.x, self.m.y))\n",
    "        self.cost_map = np.zeros((self.m.x, self.m.y))\n",
    "        self.status_map = np.zeros((self.m.x, self.m.y))    # 0: none, 1: open, 2: closed\n",
    "        self.path_map = np.zeros((self.m.x, self.m.y))\n",
    "        \n",
    "        self.open_node(self.x, self.y)\n",
    "    \n",
    "    def draw(self):\n",
    "        for i in range(0, self.m.y):\n",
    "            for j in range(0, self.m.x):\n",
    "                if self.status_map[j][i] == 1:\n",
    "                    plt.text(j+0.05, i+0.2, \"open\")\n",
    "                if self.status_map[j][i] == 2:\n",
    "                    plt.text(j+0.05, i+0.2, \"closed\")\n",
    "                \n",
    "                plt.text(j+0.05, i+0.4, self.score_map[j][i])\n",
    "                plt.text(j+0.05, i+0.6, self.cost_map[j][i])\n",
    "                \n",
    "                \n",
    "    def run_node(self):\n",
    "        # 周囲のノードをオープンする\n",
    "        self.open_around()\n",
    "        \n",
    "        # 基準ノードをクローズする\n",
    "        self.set_status_closed(self.x, self.y)\n",
    "        \n",
    "    def open_node(self, x, y):\n",
    "        # 状態をオープンにする\n",
    "        self.set_status_open(x, y)\n",
    "        # スコアを計算して記録\n",
    "        self.write_score(x, y)\n",
    "        # 実コストを記録\n",
    "        self.write_cost(x, y)\n",
    "        \n",
    "    def set_status_open(self, x, y):\n",
    "        self.status_map[x][y] = 1\n",
    "        \n",
    "    def set_status_closed(self, x, y):\n",
    "        self.status_map[x][y] = 2\n",
    "    \n",
    "    # スコアをスコアマップに記録する関数\n",
    "    def write_score(self, x, y):\n",
    "        score = self.calc_score(x, y)\n",
    "        self.score_map[x][y] = score\n",
    "    \n",
    "    # 実コストをスコアマップに記録する関数\n",
    "    def write_cost(self, x, y):\n",
    "        self.cost_map[x][y] = self.cost\n",
    "    \n",
    "    # スコアを計算する関数\n",
    "    def calc_score(self, x, y):\n",
    "        hcost = self.calc_hcost(x, y)\n",
    "        score = self.cost + hcost\n",
    "        return score\n",
    "    \n",
    "    # 推定コストを計算する関数\n",
    "    def calc_hcost(self, x, y):\n",
    "        # 基準ノードとゴール地点のx, y座標の差分を求めておく\n",
    "        dx = abs(self.g.x - x)\n",
    "        dy = abs(self.g.y - y)\n",
    "        \n",
    "        # 基準ノードとゴール地点のユークリッド距離を推定コストとする\n",
    "        hcost = round(math.sqrt(math.pow(dx, 2) + math.pow(dy, 2)), 1)\n",
    "        return hcost\n",
    "    \n",
    "    # 基準ノードの周囲8方向にあるノードをオープンする\n",
    "    def open_around(self):\n",
    "        around_status = self.get_around_status()\n",
    "        \n",
    "        for i in range(0, len(around_status)):\n",
    "            if around_status[i] == 0:\n",
    "                # 基準ノードの左下\n",
    "                if i == 0:\n",
    "                    self.add_cost_and_open_node(self.x-1, self.y+1, 1.4)\n",
    "                    self.path_map[self.x-1, self.y+1] = 1\n",
    "                    \n",
    "                # 基準ノードの下\n",
    "                if i == 1:\n",
    "                    self.add_cost_and_open_node(self.x, self.y+1, 1)\n",
    "                    self.path_map[self.x, self.y+1] = 2\n",
    "                    \n",
    "                # 基準ノードの右下\n",
    "                if i == 2:\n",
    "                    self.add_cost_and_open_node(self.x+1, self.y+1, 1.4)\n",
    "                    self.path_map[self.x+1, self.y+1] = 3\n",
    "                    \n",
    "                # 基準ノードの右\n",
    "                if i == 3:\n",
    "                    self.add_cost_and_open_node(self.x+1, self.y, 1)\n",
    "                    self.path_map[self.x+1, self.y] = 4\n",
    "                \n",
    "                # 基準ノードの右上\n",
    "                if i == 4:\n",
    "                    self.add_cost_and_open_node(self.x+1, self.y-1, 1.4)\n",
    "                    self.path_map[self.x+1, self.y-1] = 5\n",
    "                \n",
    "                # 基準ノードの上\n",
    "                if i == 5:\n",
    "                    self.add_cost_and_open_node(self.x, self.y-1, 1)\n",
    "                    self.path_map[self.x, self.y-1] = 6\n",
    "                \n",
    "                # 基準ノードの左上\n",
    "                if i == 6:\n",
    "                    self.add_cost_and_open_node(self.x-1, self.y-1, 1.4)\n",
    "                    self.path_map[self.x-1, self.y-1] = 7\n",
    "                \n",
    "                # 基準ノードの左\n",
    "                if i == 7:\n",
    "                    self.add_cost_and_open_node(self.x-1, self.y, 1.4)\n",
    "                    self.path_map[self.x-1, self.y] = 8\n",
    "    \n",
    "    def get_around_status(self):\n",
    "        around_status = []\n",
    "        # 基準ノードの周囲8方向にあるノードの状態を取得\n",
    "        around_status.append(self.status_check(self.x-1, self.y+1))\n",
    "        around_status.append(self.status_check(self.x, self.y+1))\n",
    "        around_status.append(self.status_check(self.x+1, self.y+1))\n",
    "        around_status.append(self.status_check(self.x+1, self.y))\n",
    "        around_status.append(self.status_check(self.x+1, self.y-1))\n",
    "        around_status.append(self.status_check(self.x, self.y-1))\n",
    "        around_status.append(self.status_check(self.x-1, self.y-1))\n",
    "        around_status.append(self.status_check(self.x-1, self.y))\n",
    "        return around_status\n",
    "        \n",
    "    def status_check(self, x, y):\n",
    "        if x >= 0 and x < self.m.x and y >= 0 and y < self.m.y \\\n",
    "        and not self.m.wall_map[x][y]:\n",
    "            return self.status_map[x][y]\n",
    "        else:\n",
    "            return 2    # closed 扱いにしておく\n",
    "    \n",
    "    def add_cost_and_open_node(self, x, y, cost):\n",
    "        self.cost += cost\n",
    "        self.open_node(x, y)\n",
    "        self.cost -= cost"
   ]
  },
  {
   "cell_type": "code",
   "execution_count": 6,
   "metadata": {
    "collapsed": true
   },
   "outputs": [],
   "source": [
    "# 描画するためのグラフを用意する関数\n",
    "def set_field(x, y):\n",
    "    plt.figure(figsize=(10,10),dpi=200)\n",
    "    plt.axes().set_aspect('equal')\n",
    "    plt.xlim(0, x)\n",
    "    plt.ylim(y, 0)"
   ]
  },
  {
   "cell_type": "code",
   "execution_count": 7,
   "metadata": {
    "collapsed": true
   },
   "outputs": [],
   "source": [
    "def draw_playground(m, s, g):\n",
    "    set_field(m.x, m.y)\n",
    "    m.draw()    # Map の描画\n",
    "    s.draw()    # Start 地点の描画\n",
    "    g.draw()    # Goal 地点の描画"
   ]
  },
  {
   "cell_type": "code",
   "execution_count": 8,
   "metadata": {
    "collapsed": true
   },
   "outputs": [],
   "source": [
    "# 次の基準ノードを選択し, そのノードの座標をリストで返す関数\n",
    "def select_node(n):\n",
    "    \n",
    "    min_score = 999\n",
    "    min_cost = 999\n",
    "    \n",
    "    # 最小のスコアを求める\n",
    "    for i in range(0, n.m.y):\n",
    "        for j in range(0, n.m.x):\n",
    "            if n.score_map[j][i] < min_score and not n.score_map[j][i] == 0 and n.status_map[j][i] == 1:\n",
    "                min_score = n.score_map[j][i]\n",
    "    \n",
    "    # 最小のスコアかつ最小の実コストのノードを選択する\n",
    "    for i in range(0, n.m.y):\n",
    "        for j in range(0, n.m.x):\n",
    "            if n.score_map[j][i] == min_score and n.cost_map[j][i] < min_cost \\\n",
    "            and not n.cost_map[j][i] == 0 and n.status_map[j][i] == 1:\n",
    "                min_cost = n.cost_map[j][i]\n",
    "                selected_node = [j, i]\n",
    "                \n",
    "    return selected_node"
   ]
  },
  {
   "cell_type": "code",
   "execution_count": 9,
   "metadata": {
    "collapsed": true
   },
   "outputs": [],
   "source": [
    "def node_get_data(n, x, y):\n",
    "    n.x = x\n",
    "    n.y = y\n",
    "    n.cost = n.cost_map[x][y]"
   ]
  },
  {
   "cell_type": "code",
   "execution_count": 10,
   "metadata": {
    "collapsed": true
   },
   "outputs": [],
   "source": [
    "def update(n):\n",
    "    if not n.isGoal:\n",
    "        # 次の基準ノードの座標を取得\n",
    "        next_xy = select_node(n)\n",
    "        \n",
    "        # 次の基準ノードがゴール地点だったら, isGoal を True にする\n",
    "        if next_xy == [n.g.x, n.g.y]:\n",
    "            n.isGoal = True\n",
    "        \n",
    "        node_get_data(n, next_xy[0], next_xy[1])\n",
    "        n.run_node()"
   ]
  },
  {
   "cell_type": "code",
   "execution_count": 11,
   "metadata": {
    "collapsed": true
   },
   "outputs": [],
   "source": [
    "# 経路のリストを取得する関数\n",
    "def get_path(n):\n",
    "    path_list = []\n",
    "    x = n.g.x\n",
    "    y = n.g.y\n",
    "    path_list.insert(0, [x, y])\n",
    "    \n",
    "    # ゴール地点からスタート地点まで戻りながら経路を取得する\n",
    "    while not [x, y] == [n.s.x, n.s.y]:\n",
    "        path = path_check(n, x, y)\n",
    "        if path == 1: x += 1; y -= 1\n",
    "        if path == 2: y -= 1\n",
    "        if path == 3: x -= 1; y -= 1\n",
    "        if path == 4: x -= 1\n",
    "        if path == 5: x -= 1; y += 1\n",
    "        if path == 6: y += 1\n",
    "        if path == 7: x += 1; y += 1\n",
    "        if path == 8: x += 1\n",
    "        \n",
    "        # 経路を逆走しているので, リストの最前に要素を追加\n",
    "        path_list.insert(0, [x, y])\n",
    "    \n",
    "    return path_list"
   ]
  },
  {
   "cell_type": "code",
   "execution_count": 12,
   "metadata": {
    "collapsed": true
   },
   "outputs": [],
   "source": [
    "def path_check(n, x, y):\n",
    "        if x >= 0 and x < n.m.x and y >= 0 and y < n.m.y \\\n",
    "        and not n.m.wall_map[x][y]:\n",
    "            return n.path_map[x][y]"
   ]
  },
  {
   "cell_type": "code",
   "execution_count": 13,
   "metadata": {
    "collapsed": true
   },
   "outputs": [],
   "source": [
    "def draw_path(path_list):\n",
    "    # スタート地点とゴール地点は描画しない\n",
    "    for i in range(1, len(path_list)-1):\n",
    "        plt.fill([path_list[i][0], path_list[i][0]+1, path_list[i][0]+1, path_list[i][0]], [path_list[i][1], path_list[i][1], path_list[i][1]+1, path_list[i][1]+1], color=\"green\", alpha=0.1)"
   ]
  },
  {
   "cell_type": "code",
   "execution_count": 14,
   "metadata": {
    "scrolled": false
   },
   "outputs": [
    {
     "name": "stdout",
     "output_type": "stream",
     "text": [
      "[[0, 1], [1, 2], [2, 3], [2, 4], [2, 5], [3, 6], [4, 6], [5, 6], [6, 6], [7, 6], [8, 5], [7, 4], [6, 3], [5, 2], [5, 1], [4, 0]]\n"
     ]
    },
    {
     "data": {
      "image/png": "[encoded data removed]",
      "text/plain": [
       "<matplotlib.figure.Figure at 0x7f1598a42d10>"
      ]
     },
     "metadata": {},
     "output_type": "display_data"
    }
   ],
   "source": [
    "if __name__ == '__main__':\n",
    "    # クラスの呼び出し\n",
    "    m = Map(10, 10)    # 引数は地図のサイズ\n",
    "    s = Start(0, 1)    # 引数はスタート地点の座標\n",
    "    g = Goal(4, 0)     # 引数はゴール地点の座標\n",
    "    n = Node(m, s, g)\n",
    "    \n",
    "    # 経路探索を行う場所の描画\n",
    "    draw_playground(m, s, g)\n",
    "    \n",
    "    # 経路探索の実行\n",
    "    n.run_node()\n",
    "    while not n.isGoal:\n",
    "        update(n)\n",
    "    \n",
    "    # 探索に用いた情報の描画, 地図サイズを10x10にしたほうが見やすい\n",
    "    #n.draw()\n",
    "    \n",
    "    # 算出された経路がわかるリストを表示\n",
    "    print(get_path(n))\n",
    "    \n",
    "    # 経路の描画\n",
    "    draw_path(get_path(n))"
   ]
  }
 ],
 "metadata": {
  "kernelspec": {
   "display_name": "Python 3",
   "language": "python",
   "name": "python3"
  },
  "language_info": {
   "codemirror_mode": {
    "name": "ipython",
    "version": 2
   },
   "file_extension": ".py",
   "mimetype": "text/x-python",
   "name": "python",
   "nbconvert_exporter": "python",
   "pygments_lexer": "ipython2",
   "version": "2.7.12"
  }
 },
 "nbformat": 4,
 "nbformat_minor": 2
}
