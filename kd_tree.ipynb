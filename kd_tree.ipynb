{
 "cells": [
  {
   "cell_type": "code",
   "execution_count": 22,
   "metadata": {},
   "outputs": [],
   "source": [
    "import numpy as np\n",
    "import matplotlib.pyplot as plt\n",
    "%matplotlib inline\n",
    "import copy"
   ]
  },
  {
   "cell_type": "code",
   "execution_count": 23,
   "metadata": {
    "collapsed": true
   },
   "outputs": [],
   "source": [
    "class kdtree():\n",
    "    def __init__(self):\n",
    "        # 点の座標を指定\n",
    "        self.dot = [[2, 3], [5, 1], [3, 6], [7, 5], [4, 4], [6, 2], [8, 8]]\n",
    "        \n",
    "        # 点の座標をx, y座標に分けて格納\n",
    "        self.dot_x = []\n",
    "        self.dot_y = []\n",
    "        for i in range(len(self.dot)):\n",
    "            self.dot_x.append(self.dot[i][0])\n",
    "            self.dot_y.append(self.dot[i][1])\n",
    "        \n",
    "    def draw(self, t_max):\n",
    "        # 新しい描画の開始\n",
    "        plt.figure()\n",
    "        \n",
    "        # 範囲の指定\n",
    "        xmin = 0\n",
    "        xmax = 10\n",
    "        ymin = 0\n",
    "        ymax = 10\n",
    "        plt.axis([xmin, xmax, ymin, ymax])\n",
    "        \n",
    "        xm = ym = 0\n",
    "        xm_all = [xm]\n",
    "        ym_all = [ym]\n",
    "        \n",
    "        # 点の描画\n",
    "        for i in range(len(self.dot)):\n",
    "            plt.scatter(self.dot[i][0], self.dot[i][1], marker='o', s = 70, c='white', edgecolors=\"gray\")\n",
    "        \n",
    "        area = [self.dot]\n",
    "        for t in range(t_max):\n",
    "            # t = 1, 2, 3, ...\n",
    "            t += 1\n",
    "            \n",
    "            if t%2 == 1:\n",
    "                area_b = copy.deepcopy(area)\n",
    "                area = []\n",
    "                ym_all = []\n",
    "                for a in range(len(area_b)):\n",
    "                    # 点の座標をx, y座標に分けて格納\n",
    "                    self.dot_x = []\n",
    "                    self.dot_y = []\n",
    "                    for j in range(len(area_b[a])):\n",
    "                        self.dot_x.append(area_b[a][j][0])\n",
    "                        self.dot_y.append(area_b[a][j][1])\n",
    "                    \n",
    "                    # 中央値の算出\n",
    "                    if len(self.dot_y)%2 == 1:\n",
    "                        ym = np.median(self.dot_y)\n",
    "                    else:\n",
    "                        self.dot_y.pop()\n",
    "                        ym = np.median(self.dot_y)\n",
    "                    \n",
    "                    # 中央値の格納\n",
    "                    ym_all.append(ym)\n",
    "                    \n",
    "                    # 横に分割\n",
    "                    if t == 1:\n",
    "                        plt.plot([xmin, xmax], [ym, ym], '#e74c3c')\n",
    "                        p = 0\n",
    "                        q = 0\n",
    "                    else:\n",
    "                        if a%2 == 1:\n",
    "                            if p%2 == 0:\n",
    "                                plt.plot([xmin, xm_all[0]], [ym, ym], '#e74c3c')\n",
    "                            else:\n",
    "                                plt.plot([xmin, xm_all[1]], [ym, ym], '#e74c3c')\n",
    "                            p += 1\n",
    "                        else:\n",
    "                            if q%2 == 0:\n",
    "                                plt.plot([xm_all[0], xmax], [ym, ym], '#e74c3c')\n",
    "                            else:\n",
    "                                plt.plot([xm_all[1], xmax], [ym, ym], '#e74c3c')\n",
    "                            q += 1\n",
    "\n",
    "                    for i in range(t*2):\n",
    "                        area.append([])\n",
    "\n",
    "                    for i in range(t*2 - 1):\n",
    "                        i2 = i * 2\n",
    "                        for j in range(len(area_b[a])):\n",
    "                            if area_b[a][j][1] > ym:\n",
    "                                area[i].append(area_b[a][j])\n",
    "                            elif area_b[a][j][1] < ym:\n",
    "                                area[i+1].append(area_b[a][j])\n",
    "\n",
    "            else:\n",
    "                area_b = copy.deepcopy(area)\n",
    "                area = []\n",
    "                xm_all = []\n",
    "                for a in range(len(area_b)):\n",
    "                    # 点の座標をx, y座標に分けて格納\n",
    "                    self.dot_x = []\n",
    "                    self.dot_y = []\n",
    "                    for j in range(len(area_b[a])):\n",
    "                        self.dot_x.append(area_b[a][j][0])\n",
    "                        self.dot_y.append(area_b[a][j][1])\n",
    "                    \n",
    "                    # 中央値の算出\n",
    "                    if len(self.dot_x)%2 == 1:\n",
    "                        xm = np.median(self.dot_x)\n",
    "                    else:\n",
    "                        self.dot_x.pop()\n",
    "                        xm = np.median(self.dot_x)\n",
    "                        \n",
    "                    # 中央値の格納\n",
    "                    xm_all.append(xm)\n",
    "                    \n",
    "                    # 縦に分割\n",
    "                    if a%2 == 1:\n",
    "                        plt.plot([xm, xm], [ymin, ym], '#3498db')\n",
    "                    else:\n",
    "                        plt.plot([xm, xm], [ym, ymax], '#3498db')\n",
    "                    \n",
    "                    for i in range(t):\n",
    "                        area.append([])\n",
    "                        \n",
    "                    for j in range(len(area_b[a])):\n",
    "                        if a == 0:\n",
    "                            if area_b[a][j][0] > xm:\n",
    "                                area[0].append(area_b[a][j])\n",
    "                            elif area_b[a][j][0] < xm:\n",
    "                                area[1].append(area_b[a][j])\n",
    "                        if a == 1:\n",
    "                            if area_b[a][j][0] > xm:\n",
    "                                area[2].append(area_b[a][j])\n",
    "                            elif area_b[a][j][0] < xm:\n",
    "                                area[3].append(area_b[a][j])"
   ]
  },
  {
   "cell_type": "code",
   "execution_count": 24,
   "metadata": {
    "scrolled": true
   },
   "outputs": [
    {
     "data": {
      "image/png": "[encoded data removed]",
      "text/plain": [
       "<matplotlib.figure.Figure at 0x1ff659fc828>"
      ]
     },
     "metadata": {},
     "output_type": "display_data"
    },
    {
     "data": {
      "image/png": "[encoded data removed]",
      "text/plain": [
       "<matplotlib.figure.Figure at 0x1ff65b2e828>"
      ]
     },
     "metadata": {},
     "output_type": "display_data"
    },
    {
     "data": {
      "image/png": "[encoded data removed]",
      "text/plain": [
       "<matplotlib.figure.Figure at 0x1ff6593b198>"
      ]
     },
     "metadata": {},
     "output_type": "display_data"
    }
   ],
   "source": [
    "if __name__ == '__main__':\n",
    "    k1 = kdtree()\n",
    "    for i in range(3):\n",
    "        i += 1\n",
    "        k1.draw(i)"
   ]
  }
 ],
 "metadata": {
  "kernelspec": {
   "display_name": "Python 3",
   "language": "python",
   "name": "python3"
  },
  "language_info": {
   "codemirror_mode": {
    "name": "ipython",
    "version": 3
   },
   "file_extension": ".py",
   "mimetype": "text/x-python",
   "name": "python",
   "nbconvert_exporter": "python",
   "pygments_lexer": "ipython3",
   "version": "3.6.1"
  }
 },
 "nbformat": 4,
 "nbformat_minor": 2
}
